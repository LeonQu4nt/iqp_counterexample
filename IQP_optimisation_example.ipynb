{
 "cells": [
  {
   "cell_type": "code",
   "execution_count": 1,
   "id": "1c7455e8",
   "metadata": {},
   "outputs": [],
   "source": [
    "import numpy as np\n",
    "from numba import njit\n",
    "import matplotlib.pyplot as plt\n",
    "import scipy.optimize as sp\n",
    "from scipy.integrate import RK45\n",
    "from pyqubo import Spin, Array\n",
    "import neal"
   ]
  },
  {
   "cell_type": "markdown",
   "id": "41f16751",
   "metadata": {},
   "source": [
    "# Function definitions"
   ]
  },
  {
   "cell_type": "code",
   "execution_count": 49,
   "id": "9b210c7e",
   "metadata": {
    "code_folding": [
     0
    ]
   },
   "outputs": [
    {
     "name": "stderr",
     "output_type": "stream",
     "text": [
      "ibmqfactory.load_account:WARNING:2022-10-10 13:33:33,845: Credentials are already in use. The existing account in the session will be replaced.\n"
     ]
    }
   ],
   "source": [
    "# IBM Q statevector simulator\n",
    "\n",
    "# Importing standard Qiskit libraries\n",
    "from qiskit import QuantumCircuit, transpile, Aer, IBMQ\n",
    "from qiskit.tools.jupyter import *\n",
    "from qiskit.visualization import *\n",
    "from qiskit.providers.aer import QasmSimulator\n",
    "\n",
    "# Loading your IBM Quantum account(s).\n",
    "provider = IBMQ.load_account()\n",
    "\n",
    "def add_IQP_gate(circ, q1,q2, th):\n",
    "    \"\"\"Adds an RZZGate to the circuit.\"\"\"\n",
    "    circ.cnot(q1,q2)\n",
    "    circ.rz(th,q2)\n",
    "    circ.cnot(q1,q2)\n",
    "    \n",
    "def get_prob_IBM(x,n_qubits,configs):\n",
    "    \"\"\"Returns probabilities of sampling configurations in configs list\n",
    "    for an IQP circuit defined by parameters x.\"\"\"\n",
    "    N = n_qubits\n",
    "    phi = x[:N]\n",
    "    th_s = x[N:2*N]\n",
    "    th_d = x[2*N:]\n",
    "    \n",
    "    circ = QuantumCircuit(N)\n",
    "\n",
    "    for i in range(N):\n",
    "        circ.h(N-i-1)\n",
    "        circ.rz(th_s[i],N-i-1)\n",
    "\n",
    "    for i in range(N):\n",
    "        for j in range(i):\n",
    "            add_IQP_gate(circ,N-i-1,N-j-1,th_d[int(pair_ind[i,j])])\n",
    "\n",
    "    for i in range(N):\n",
    "        circ.rx(phi[i],N-i-1)\n",
    "        \n",
    "    simulator = Aer.get_backend('statevector_simulator')\n",
    "    job_statevector = simulator.run(circ)\n",
    "    statevector = job_statevector.result().get_statevector()\n",
    "    probs = []\n",
    "    for s in configs:\n",
    "        n = int(s,2)\n",
    "        probs.append(abs(statevector[n])**2)\n",
    "    return probs\n",
    "\n",
    "def sample_IQP_IBM(x,n_qubits,num_samples,ground_config = 0):\n",
    "    \"\"\"Returns samples from the IQP defined by parameters x, \n",
    "    as well as the cumulative probability in list ground_config.\"\"\"\n",
    "    N = n_qubits\n",
    "    phi = x[:N]\n",
    "    th_s = x[N:2*N]\n",
    "    th_d = x[2*N:]\n",
    "    \n",
    "    circ = QuantumCircuit(N)\n",
    "\n",
    "    for i in range(N):\n",
    "        circ.h(N-i-1)\n",
    "        circ.rz(th_s[i],N-i-1)\n",
    "\n",
    "    for i in range(N):\n",
    "        for j in range(i):\n",
    "            add_IQP_gate(circ,N-i-1,N-j-1,th_d[int(pair_ind[i,j])])\n",
    "\n",
    "    for i in range(N):\n",
    "        circ.rx(phi[i],N-i-1)\n",
    "    \n",
    "    circ.snapshot(label='my_sv',snapshot_type='statevector')\n",
    "    circ.measure_all()\n",
    "    simulator = Aer.get_backend('qasm_simulator')\n",
    "    result = simulator.run(circ,shots=num_samples).result()\n",
    "    statevector = result.data()['snapshots']['statevector']['my_sv'][0]\n",
    "    counts = result.get_counts()\n",
    "    samples_binary = []\n",
    "    for sample in counts.keys():\n",
    "        for i in range(counts[sample]):\n",
    "            samples_binary.append(sample)\n",
    "    if ground_config:\n",
    "        ground_prob = 0\n",
    "        for conf in ground_config:\n",
    "            ground_prob += abs(statevector[int(conf,2)])**2\n",
    "        return samples_binary, ground_prob\n",
    "    else:\n",
    "        return samples_binary"
   ]
  },
  {
   "cell_type": "code",
   "execution_count": 50,
   "id": "9e16cbd3",
   "metadata": {
    "code_folding": [
     0
    ]
   },
   "outputs": [],
   "source": [
    "# Auxiliary functions\n",
    "\n",
    "def mirror(s):\n",
    "    \"\"\"Return the configuration corresponding to flipping all spins.\"\"\"\n",
    "    sol_mirror = bin(2**N-1-int(s,2))[2:]\n",
    "    sol_mirror = '0'*(N-len(sol_mirror))+sol_mirror\n",
    "    return sol_mirror\n",
    "\n",
    "def get_SK_hamilt(N, seed, bias):\n",
    "    \"\"\"Returns a randomly generated Sherrington-Kirkpatrick Hamiltonian. \n",
    "    A biasing global field may be applied.\"\"\"\n",
    "    np.random.seed(seed = seed)\n",
    "    h = bias*np.ones(N)\n",
    "    g = 1/np.sqrt(N)*np.random.normal(size = [N,N])\n",
    "    for i in range(N):\n",
    "        for j in range(i):\n",
    "            g[i,j] = g[j,i]\n",
    "    for i in range(N):\n",
    "        g[i,i] = 0\n",
    "    return h,g\n",
    "\n",
    "def energy_from_config(config,h,g):\n",
    "    \"\"\"Returns the energy of a configuration.\"\"\"\n",
    "    N = len(h)\n",
    "    s = [int(i) for i in config]\n",
    "    energy = 0\n",
    "    for i in range(N):\n",
    "        energy += h[i]*(1-2*s[i])\n",
    "    for i in range(N):\n",
    "        for j in range(i):\n",
    "            energy+= g[i,j]*(1-2*s[i])*(1-2*s[j])\n",
    "    return energy"
   ]
  },
  {
   "cell_type": "code",
   "execution_count": 51,
   "id": "cab223f7",
   "metadata": {
    "code_folding": [
     0
    ]
   },
   "outputs": [],
   "source": [
    "# QAOA optimization functions\n",
    "\n",
    "def QAOA_params(beta,gamma,h,g):\n",
    "    \"\"\"Returns the IQP parameters x corresponding to the\n",
    "    reduced QAOA parameters of some Hamiltonian.\"\"\"\n",
    "    N = len(h)\n",
    "    phi = 2*beta*np.ones(N)\n",
    "    theta_s = 1e-10*np.ones(N)\n",
    "    theta_d_vec = np.zeros(np.int32(N*(N-1)/2))\n",
    "    for i in range(N):\n",
    "        theta_s[i] += 2*h[0]*gamma\n",
    "    for i in range(N):\n",
    "        for j in range(i):\n",
    "            theta_d_vec[np.int32(pair_ind[i,j])] = 2*g[i,j]*gamma\n",
    "    x = np.hstack((phi,theta_s,theta_d_vec))\n",
    "    return x"
   ]
  },
  {
   "cell_type": "code",
   "execution_count": 52,
   "id": "02665bd1",
   "metadata": {
    "code_folding": [
     0
    ]
   },
   "outputs": [],
   "source": [
    "# Wrappers\n",
    "\n",
    "def energy_wrapper_QAOA(x_QAOA):\n",
    "    \"\"\"Returns the energy of a point on the QAOA submanifold.\"\"\"\n",
    "    beta = x_QAOA[0]\n",
    "    gamma = x_QAOA[1]\n",
    "    x = QAOA_params(beta,gamma,h,g)\n",
    "    E, jac = hamilt_energy(h,g,x)\n",
    "    return E\n",
    "\n",
    "def RK45_energy_wrapper(t,x):\n",
    "    \"\"\"Returns the gradient of the energy landscape at parameters x.\"\"\"\n",
    "    energy, jac = hamilt_energy(h,g,x)\n",
    "    return -jac\n",
    "\n",
    "def RK45_energy_wrapper_v(t,y):\n",
    "    \"\"\"Returns the Gram matrix adjusted gradient, as required by the VarQITE protocol.\"\"\"\n",
    "    energy, jac = hamilt_energy(h,g,y)\n",
    "    inv_A = inv_Gram_matrix(y,N)\n",
    "    return -1/4*inv_A.dot(jac)"
   ]
  },
  {
   "cell_type": "code",
   "execution_count": 53,
   "id": "8f8f7573",
   "metadata": {
    "code_folding": [
     0
    ]
   },
   "outputs": [],
   "source": [
    "# PyQubo simulated annealing solver\n",
    "\n",
    "def get_exact_sol_pyqubo(h,g):\n",
    "    \"\"\"Use pyqubo to find the ground state of Hamiltonian defined by (h,g) pair.\"\"\"\n",
    "    N = len(h)\n",
    "    x_ = Array.create('x', shape=N, vartype='BINARY')\n",
    "    H_qubo = 0\n",
    "    for i in range(N):\n",
    "        H_qubo += h[i]*(1-2*x_[i])\n",
    "    for i in range(N):\n",
    "        for j in range(i):\n",
    "            H_qubo+= g[i,j]*(1-2*x_[i])*(1-2*x_[j])\n",
    "    model = H_qubo.compile()\n",
    "    bqm = model.to_bqm()\n",
    "    sa = neal.SimulatedAnnealingSampler()\n",
    "    sampleset = sa.sample(bqm, num_reads=1000)\n",
    "    decoded_samples = model.decode_sampleset(sampleset)\n",
    "    best_sample = min(decoded_samples, key=lambda x: x.energy)\n",
    "    sol = ''\n",
    "    for i in range(N):\n",
    "        s = best_sample.sample['x['+ str(i)+']']\n",
    "        sol = sol+str(s)\n",
    "    return sol, best_sample.energy"
   ]
  },
  {
   "cell_type": "code",
   "execution_count": 54,
   "id": "8bcb7149",
   "metadata": {
    "code_folding": [
     0
    ]
   },
   "outputs": [],
   "source": [
    "# Core functions for traversing the variational landscape\n",
    "\n",
    "pair_ind = np.zeros([1000,1000]) # Auxiliary matrix for array to linear format conversion.\n",
    "index = 0\n",
    "for i in range(1000):\n",
    "    for j in range(i):\n",
    "        pair_ind[j,i] = index\n",
    "        index += 1\n",
    "pair_ind = pair_ind+pair_ind.T\n",
    "\n",
    "@njit\n",
    "def hamilt_energy(h,g,x):\n",
    "    \"\"\"Returns the energy and gradient of an IQP state with parameters x.\"\"\"\n",
    "    E = 0\n",
    "    M = len(h)\n",
    "    num_params = int(M*(M+3)/2)\n",
    "    phi = x[:M]\n",
    "    th_x = x[M:2*M]\n",
    "    th_xy = x[2*M:]\n",
    "    jac = np.zeros(num_params)\n",
    "    Sin_phi = np.sin(x[:M])\n",
    "    Cos_phi = np.cos(x[:M])\n",
    "    Sin_th_x = np.sin(x[M:2*M])\n",
    "    Cos_th_x = np.cos(x[M:2*M])\n",
    "    Sin_th_xy = np.sin(x[2*M:])\n",
    "    Cos_th_xy = np.cos(x[2*M:])\n",
    "    \n",
    "    # Single term expectation values\n",
    "    for i in range(M):\n",
    "        Z_exp = Sin_th_x[i]\n",
    "        Z_grad = np.zeros(num_params)\n",
    "        for j in range(M):\n",
    "            if i != j:\n",
    "                Z_exp *= Cos_th_xy[int(pair_ind[i,j])]\n",
    "        Z_grad[i] += Cos_phi[i]*Z_exp\n",
    "        Z_grad[M+i] += Sin_phi[i]*Z_exp*Cos_th_x[i]/Sin_th_x[i]\n",
    "        for j in range(M):\n",
    "            if i != j:\n",
    "                Z_grad[2*M+int(pair_ind[i,j])] += -Z_exp*Sin_phi[i]*Sin_th_xy[int(pair_ind[i,j])]/Cos_th_xy[int(pair_ind[i,j])]\n",
    "        E += h[i]*Sin_phi[i]*Z_exp\n",
    "        jac += h[i]*Z_grad\n",
    "    \n",
    "    # Doubles term expectation values\n",
    "    for i in range(M):\n",
    "        for j in range(i):\n",
    "            # ZX contributions\n",
    "            Z1X2 = Cos_phi[i]*Sin_phi[j]*Cos_th_x[j]*Sin_th_xy[int(pair_ind[i,j])]\n",
    "            Z1X2_grad = np.zeros(num_params)\n",
    "            for k in range(M):\n",
    "                if k != i and k!=j:\n",
    "                    Z1X2 *= Cos_th_xy[int(pair_ind[j,k])]\n",
    "            Z1X2_grad[i] += -Z1X2*Sin_phi[i]/Cos_phi[i]\n",
    "            Z1X2_grad[j] += Z1X2*Cos_phi[j]/Sin_phi[j]\n",
    "            Z1X2_grad[M+j] += -Z1X2*Sin_th_x[j]/Cos_th_x[j]\n",
    "            Z1X2_grad[2*M+int(pair_ind[i,j])] += Z1X2*Cos_th_xy[int(pair_ind[i,j])]/Sin_th_xy[int(pair_ind[i,j])]\n",
    "            for k in range(M):\n",
    "                if k != i and k!=j:\n",
    "                    Z1X2_grad[2*M+int(pair_ind[k,j])] += -Z1X2*Sin_th_xy[int(pair_ind[k,j])]/Cos_th_xy[int(pair_ind[k,j])]\n",
    "            E += g[i,j]*Z1X2\n",
    "            jac += g[i,j]*Z1X2_grad\n",
    "            \n",
    "            Z2X1 = Cos_phi[j]*Sin_phi[i]*Cos_th_x[i]*Sin_th_xy[int(pair_ind[i,j])]\n",
    "            Z2X1_grad = np.zeros(num_params)\n",
    "            for k in range(M):\n",
    "                if k != i and k!=j:\n",
    "                    Z2X1 *= Cos_th_xy[int(pair_ind[i,k])]\n",
    "            Z2X1_grad[j] += -Z2X1*Sin_phi[j]/Cos_phi[j]\n",
    "            Z2X1_grad[i] += Z2X1*Cos_phi[i]/Sin_phi[i]\n",
    "            Z2X1_grad[M+i] += -Z2X1*Sin_th_x[i]/Cos_th_x[i]\n",
    "            Z2X1_grad[2*M+int(pair_ind[i,j])] += Z2X1*Cos_th_xy[int(pair_ind[i,j])]/Sin_th_xy[int(pair_ind[i,j])]\n",
    "            for k in range(M):\n",
    "                if k != i and k!=j:\n",
    "                    Z2X1_grad[2*M+int(pair_ind[i,k])] += -Z2X1*Sin_th_xy[int(pair_ind[i,k])]/Cos_th_xy[int(pair_ind[i,k])]\n",
    "            E += g[i,j]*Z2X1\n",
    "            jac += g[i,j]*Z2X1_grad\n",
    "            \n",
    "            # XX contribution\n",
    "            X1X2_plus = Sin_phi[i]*Sin_phi[j]*np.cos(th_x[i]+th_x[j])\n",
    "            X1X2_plus_grad = np.zeros(num_params)\n",
    "            X1X2_minus = Sin_phi[i]*Sin_phi[j]*np.cos(th_x[i]-th_x[j])\n",
    "            X1X2_minus_grad = np.zeros(num_params)\n",
    "            for k in range(M):\n",
    "                if k != i and k!=j:\n",
    "                    X1X2_minus *= np.cos(th_xy[int(pair_ind[i,k])]-th_xy[int(pair_ind[k,j])])\n",
    "            for k in range(M):\n",
    "                if k != i and k!=j:\n",
    "                    X1X2_plus *= np.cos(th_xy[int(pair_ind[i,k])]+th_xy[int(pair_ind[k,j])])\n",
    "            X1X2_plus_grad[i] += X1X2_plus*Cos_phi[i]/Sin_phi[i]\n",
    "            X1X2_minus_grad[i] += X1X2_minus*Cos_phi[i]/Sin_phi[i]\n",
    "            X1X2_plus_grad[j] += X1X2_plus*Cos_phi[j]/Sin_phi[j]\n",
    "            X1X2_minus_grad[j] += X1X2_minus*Cos_phi[j]/Sin_phi[j]\n",
    "            X1X2_plus_grad[i+M] += -X1X2_plus*np.sin(th_x[i]+th_x[j])/np.cos(th_x[i]+th_x[j])\n",
    "            X1X2_minus_grad[i+M] += -X1X2_minus*np.sin(th_x[i]-th_x[j])/np.cos(th_x[i]-th_x[j])\n",
    "            X1X2_plus_grad[j+M] += -X1X2_plus*np.sin(th_x[i]+th_x[j])/np.cos(th_x[i]+th_x[j])\n",
    "            X1X2_minus_grad[j+M] += X1X2_minus*np.sin(th_x[i]-th_x[j])/np.cos(th_x[i]-th_x[j])\n",
    "            for k in range(M):\n",
    "                if k != i and k!=j:\n",
    "                    X1X2_plus_grad[2*M+int(pair_ind[i,k])] += -X1X2_plus*np.sin(th_xy[int(pair_ind[i,k])]+th_xy[int(pair_ind[k,j])])/np.cos(th_xy[int(pair_ind[i,k])]+th_xy[int(pair_ind[k,j])])\n",
    "                    X1X2_plus_grad[2*M+int(pair_ind[j,k])] += -X1X2_plus*np.sin(th_xy[int(pair_ind[i,k])]+th_xy[int(pair_ind[k,j])])/np.cos(th_xy[int(pair_ind[i,k])]+th_xy[int(pair_ind[k,j])])\n",
    "                    X1X2_minus_grad[2*M+int(pair_ind[i,k])] += -X1X2_minus*np.sin(th_xy[int(pair_ind[i,k])]-th_xy[int(pair_ind[k,j])])/np.cos(th_xy[int(pair_ind[i,k])]-th_xy[int(pair_ind[k,j])])\n",
    "                    X1X2_minus_grad[2*M+int(pair_ind[j,k])] += X1X2_minus*np.sin(th_xy[int(pair_ind[i,k])]-th_xy[int(pair_ind[k,j])])/np.cos(th_xy[int(pair_ind[i,k])]-th_xy[int(pair_ind[k,j])])\n",
    "            E += -g[i,j]*(X1X2_plus-X1X2_minus)/2\n",
    "            jac += -g[i,j]*(X1X2_plus_grad-X1X2_minus_grad)/2\n",
    "    return E, jac\n",
    "\n",
    "\n",
    "@njit\n",
    "def inv_Gram_matrix(x,N):\n",
    "    \"\"\"Returns the inverse of the Gram matrix for an IQP with parameters x.\"\"\"\n",
    "    phi = x[:N]\n",
    "    th_x = x[N:2*N]\n",
    "    th_xy = x[2*N:]\n",
    "    \n",
    "    A_thth = 1/4*np.eye(int(N*(N+1)/2))\n",
    "    A_thphi = np.zeros((int(N*(N+1)/2),N), dtype = np.float64)\n",
    "    A_phiphi = np.zeros((N,N))\n",
    "    \n",
    "    # Compute phiphi part\n",
    "    for i in range(N):\n",
    "        A_phiphi[i,i] = 1/4\n",
    "        for j in range(i):\n",
    "            A_plus = np.cos(th_x[i]+th_x[j])\n",
    "            A_minus = np.cos(th_x[i]-th_x[j])\n",
    "            for k in range(N):\n",
    "                if k != i and k!=j:\n",
    "                    A_plus *= np.cos(th_xy[int(pair_ind[j,k])]+th_xy[int(pair_ind[i,k])])\n",
    "                    A_minus *= np.cos(th_xy[int(pair_ind[j,k])]-th_xy[int(pair_ind[i,k])])\n",
    "            A_phiphi[i,j] = 1/8*(A_plus+A_minus)\n",
    "            A_phiphi[j,i] = A_phiphi[i,j]\n",
    "    \n",
    "    # Compute thphi part\n",
    "    # Singles\n",
    "    for i in range(N):\n",
    "        for k in range(N):\n",
    "            if i != k:\n",
    "                A = -1/4*np.sin(th_x[k])*np.sin(th_xy[int(pair_ind[i,k])])\n",
    "                for l in range(N):\n",
    "                    if l != i and l != k:\n",
    "                        A *= np.cos(th_xy[int(pair_ind[l,k])])\n",
    "                A_thphi[i,k] = A\n",
    "    # Doubles\n",
    "    for i in range(N):\n",
    "        for j in range(i):\n",
    "            for k in range(N):\n",
    "                if k != i and k!= j:\n",
    "                    A = -1/4*np.cos(th_x[k])*np.sin(th_xy[int(pair_ind[i,k])])*np.sin(th_xy[int(pair_ind[j,k])])\n",
    "                    for l in range(N):\n",
    "                        if l != i and l!= j and l != k:\n",
    "                            A *= np.cos(th_xy[int(pair_ind[l,k])])\n",
    "                    A_thphi[N+int(pair_ind[i,j])] = A\n",
    "                    \n",
    "    A_R_top = np.hstack((A_phiphi,A_thphi.T))\n",
    "    A_R_down = np.hstack((A_thphi,A_thth))\n",
    "    A_R = np.vstack((A_R_top,A_R_down))\n",
    "    A_R = np.linalg.inv(A_R)\n",
    "    return A_R"
   ]
  },
  {
   "cell_type": "markdown",
   "id": "4589d851",
   "metadata": {},
   "source": [
    "# Example usage"
   ]
  },
  {
   "cell_type": "code",
   "execution_count": 55,
   "id": "49898273",
   "metadata": {},
   "outputs": [
    {
     "name": "stdout",
     "output_type": "stream",
     "text": [
      "Minimum energy found by annealer:  -17.175529196064744\n",
      "Solution found:  000010110010110011001010\n"
     ]
    }
   ],
   "source": [
    "# Construct SK Hamiltonian coupling matrix\n",
    "seed = 1673\n",
    "bias = 0\n",
    "N = 24\n",
    "h,g = get_SK_hamilt(N,seed,bias)\n",
    "sol, min_energy = get_exact_sol_pyqubo(h,g) # Get solution and minimum energy\n",
    "sol_max, max_energy = get_exact_sol_pyqubo(-h,-g) # Get maximum energy, optional\n",
    "max_energy = - max_energy\n",
    "sol_mirror = mirror(sol)\n",
    "\n",
    "print('Minimum energy found by annealer: ', min_energy)\n",
    "print('Solution found: ', sol)"
   ]
  },
  {
   "cell_type": "code",
   "execution_count": 56,
   "id": "f0cdd66e",
   "metadata": {},
   "outputs": [
    {
     "name": "stdout",
     "output_type": "stream",
     "text": [
      "QAOA optimization result: \n",
      "      fun: -7.078235968337163\n",
      " hess_inv: array([[8.38716247e-03, 4.18121543e-05],\n",
      "       [4.18121543e-05, 1.78911685e-02]])\n",
      "      jac: array([1.49011612e-06, 3.87430191e-06])\n",
      "  message: 'Optimization terminated successfully.'\n",
      "     nfev: 81\n",
      "      nit: 9\n",
      "     njev: 27\n",
      "   status: 0\n",
      "  success: True\n",
      "        x: array([ 0.38138251, -0.49708593])\n"
     ]
    }
   ],
   "source": [
    "# Run QAOA optimization\n",
    "\n",
    "x_QAOA_0 = [1e-2,1e-2]\n",
    "res = sp.minimize(energy_wrapper_QAOA, x_QAOA_0, tol = 1e-5)\n",
    "\n",
    "print('QAOA optimization result: ')\n",
    "print(res)"
   ]
  },
  {
   "cell_type": "code",
   "execution_count": 57,
   "id": "70470dd5",
   "metadata": {},
   "outputs": [
    {
     "name": "stdout",
     "output_type": "stream",
     "text": [
      " Percentage done:  99.37 % 85.7 %"
     ]
    },
    {
     "data": {
      "image/png": "[encoded data removed]",
      "text/plain": [
       "<Figure size 432x288 with 1 Axes>"
      ]
     },
     "metadata": {
      "needs_background": "light"
     },
     "output_type": "display_data"
    }
   ],
   "source": [
    "# Solve VarQITE equation with RK45 method\n",
    "\n",
    "beta, gamma = res['x']\n",
    "x_0 = QAOA_params(beta,gamma,h,g)\n",
    "\n",
    "energy, jac = hamilt_energy(h,g,x_0)\n",
    "t_0 = 0\n",
    "t_bound = 100\n",
    "x_hist = []\n",
    "energy_hist = []\n",
    "x_hist.append(x_0)\n",
    "energy_hist.append(energy)\n",
    "\n",
    "# Choose between wrappers:  -RK45_energy_wrapper - simple gradient\n",
    "#                           -RK45_energy_wrapper_v - VarQITE adjusted gradient\n",
    "resultRK45 = RK45(RK45_energy_wrapper, t_0, x_0, t_bound)\n",
    "\n",
    "# Evolve parameters of IQP using Runge-Kutta method\n",
    "while resultRK45.status == 'running':\n",
    "    print('\\r','Percentage done: ',round(resultRK45.t/t_bound*100,2), '%',end='')\n",
    "    resultRK45.step()\n",
    "    x = resultRK45.y\n",
    "    x_hist.append(x)\n",
    "    energy, jac = hamilt_energy(h,g,x)\n",
    "    energy_hist.append(energy)\n",
    "    \n",
    "# Plot the energy history\n",
    "plt.plot(energy_hist)\n",
    "plt.show()"
   ]
  },
  {
   "cell_type": "code",
   "execution_count": 59,
   "id": "4f04cc73",
   "metadata": {},
   "outputs": [
    {
     "name": "stdout",
     "output_type": "stream",
     "text": [
      "Best sample found:  111101001101001100110101\n",
      "Best energy found:  -17.175529196064737\n",
      "Is this the true ground state?: Yes\n",
      "Probability of sampling true ground state:  2.1692963511502996 %\n"
     ]
    },
    {
     "data": {
      "image/png": "[encoded data removed]",
      "text/plain": [
       "<Figure size 432x288 with 1 Axes>"
      ]
     },
     "metadata": {
      "needs_background": "light"
     },
     "output_type": "display_data"
    }
   ],
   "source": [
    "# Sample the IQP using Qiskit\n",
    "\n",
    "opt_pos = -1 # Select the position where sampling is performed (0 for optimal QAOA, -1 for final IQP state)\n",
    "num_samples = 100\n",
    "\n",
    "samples_IQP , prob_ground_IQP = sample_IQP_IBM(x_hist[opt_pos],N,num_samples,ground_config = [sol,sol_mirror])\n",
    "energies = [energy_from_config(con,h,g) for con in samples_IQP]\n",
    "\n",
    "best_sample = samples_IQP[np.argmin(energies)]\n",
    "print('Best sample found: ',best_sample)\n",
    "print('Best energy found: ', energy_from_config(best_sample,h,g))\n",
    "if best_sample == sol or best_sample == sol_mirror:\n",
    "    print('Is this the true ground state?: Yes')\n",
    "else:\n",
    "    print('Is this the true ground state: No')\n",
    "    print('Approximation ratio is: ', (max_energy-min(energies))/(max_energy-min_energy))\n",
    "print('Probability of sampling true ground state: ',prob_ground_IQP*100, '%')\n",
    "plt.hist(energies,bins = 50)\n",
    "plt.ylabel('Samples',size = 13)\n",
    "plt.xlabel('Energy',size=13)\n",
    "plt.show()"
   ]
  },
  {
   "cell_type": "code",
   "execution_count": null,
   "id": "68e42d21",
   "metadata": {},
   "outputs": [],
   "source": []
  }
 ],
 "metadata": {
  "kernelspec": {
   "display_name": "Python 3 (ipykernel)",
   "language": "python",
   "name": "python3"
  },
  "language_info": {
   "codemirror_mode": {
    "name": "ipython",
    "version": 3
   },
   "file_extension": ".py",
   "mimetype": "text/x-python",
   "name": "python",
   "nbconvert_exporter": "python",
   "pygments_lexer": "ipython3",
   "version": "3.9.12"
  }
 },
 "nbformat": 4,
 "nbformat_minor": 5
}
