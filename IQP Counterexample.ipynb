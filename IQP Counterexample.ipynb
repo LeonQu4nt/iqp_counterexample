{
 "cells": [
  {
   "cell_type": "markdown",
   "id": "7b77cc5a",
   "metadata": {},
   "source": [
    "# IQP Ansatz Local Optima Counterexample"
   ]
  },
  {
   "cell_type": "code",
   "execution_count": 7,
   "id": "9d0d09bd",
   "metadata": {},
   "outputs": [],
   "source": [
    "import sympy as sym\n",
    "import numpy as np"
   ]
  },
  {
   "cell_type": "code",
   "execution_count": 8,
   "id": "83534630",
   "metadata": {},
   "outputs": [
    {
     "name": "stdout",
     "output_type": "stream",
     "text": [
      "[3, 1, 1, -1, 1, -1, -1, -3, -3, -1, -1, 1, -1, 1, 1, 3]\n"
     ]
    }
   ],
   "source": [
    "# Define problem Hamiltonian\n",
    "N = 4\n",
    "H = {\n",
    " (1, 0): 1,\n",
    " (2, 0): 1,\n",
    " (3, 0): 1}\n",
    "\n",
    "# Check all eigenstate energies\n",
    "config_list = []\n",
    "for i in range(2**N):\n",
    "    config_list.append('0'*(N-len(bin(i)[2:]))+bin(i)[2:])\n",
    "energy_list = []\n",
    "for config in config_list:\n",
    "    energy = 0\n",
    "    for h in H.keys():\n",
    "        if config[h[0]] == config[h[1]]:\n",
    "            energy+=H[h]\n",
    "        else:\n",
    "            energy+=-H[h]\n",
    "    energy_list.append(energy)\n",
    "\n",
    "print(energy_list)"
   ]
  },
  {
   "cell_type": "code",
   "execution_count": 15,
   "id": "0fa11412",
   "metadata": {},
   "outputs": [],
   "source": [
    "# Define symbolic variables corresponding to IQP\n",
    "th_s = sym.symarray('theta', N)\n",
    "\n",
    "th_d = np.array([[None, sym.symbols('theta_0_1'), sym.symbols('theta_0_2'), sym.symbols('theta_0_3')],\n",
    "                 [None,         None,             sym.symbols('theta_1_2'), sym.symbols('theta_1_3')],\n",
    "                 [None,         None,                      None,            sym.symbols('theta_2_3')]])"
   ]
  },
  {
   "cell_type": "code",
   "execution_count": 17,
   "id": "41876495",
   "metadata": {},
   "outputs": [
    {
     "data": {
      "text/latex": [
       "$\\displaystyle \\sin{\\left(\\theta_{0} \\right)} \\sin{\\left(\\theta_{0 1} \\right)} \\sin{\\left(\\theta_{1 2} \\right)} \\sin{\\left(\\theta_{2} \\right)} \\cos{\\left(\\theta_{0 3} \\right)} \\cos{\\left(\\theta_{2 3} \\right)} + \\sin{\\left(\\theta_{0} \\right)} \\sin{\\left(\\theta_{0 1} \\right)} \\sin{\\left(\\theta_{1 3} \\right)} \\sin{\\left(\\theta_{3} \\right)} \\cos{\\left(\\theta_{0 2} \\right)} \\cos{\\left(\\theta_{2 3} \\right)} + \\sin{\\left(\\theta_{0} \\right)} \\sin{\\left(\\theta_{0 2} \\right)} \\sin{\\left(\\theta_{1} \\right)} \\sin{\\left(\\theta_{1 2} \\right)} \\cos{\\left(\\theta_{0 3} \\right)} \\cos{\\left(\\theta_{1 3} \\right)} + \\sin{\\left(\\theta_{0} \\right)} \\sin{\\left(\\theta_{0 2} \\right)} \\sin{\\left(\\theta_{2 3} \\right)} \\sin{\\left(\\theta_{3} \\right)} \\cos{\\left(\\theta_{0 1} \\right)} \\cos{\\left(\\theta_{1 3} \\right)} + \\sin{\\left(\\theta_{0} \\right)} \\sin{\\left(\\theta_{0 3} \\right)} \\sin{\\left(\\theta_{1} \\right)} \\sin{\\left(\\theta_{1 3} \\right)} \\cos{\\left(\\theta_{0 2} \\right)} \\cos{\\left(\\theta_{1 2} \\right)} + \\sin{\\left(\\theta_{0} \\right)} \\sin{\\left(\\theta_{0 3} \\right)} \\sin{\\left(\\theta_{2} \\right)} \\sin{\\left(\\theta_{2 3} \\right)} \\cos{\\left(\\theta_{0 1} \\right)} \\cos{\\left(\\theta_{1 2} \\right)} + \\sin{\\left(\\theta_{0 1} \\right)} \\sin{\\left(\\theta_{0 2} \\right)} \\sin{\\left(\\theta_{1 3} \\right)} \\sin{\\left(\\theta_{2 3} \\right)} \\cos{\\left(\\theta_{0} \\right)} \\cos{\\left(\\theta_{3} \\right)} + \\sin{\\left(\\theta_{0 1} \\right)} \\sin{\\left(\\theta_{0 3} \\right)} \\sin{\\left(\\theta_{1 2} \\right)} \\sin{\\left(\\theta_{2 3} \\right)} \\cos{\\left(\\theta_{0} \\right)} \\cos{\\left(\\theta_{2} \\right)} + \\sin{\\left(\\theta_{0 2} \\right)} \\sin{\\left(\\theta_{0 3} \\right)} \\sin{\\left(\\theta_{1 2} \\right)} \\sin{\\left(\\theta_{1 3} \\right)} \\cos{\\left(\\theta_{0} \\right)} \\cos{\\left(\\theta_{1} \\right)} + \\cos{\\left(\\theta_{0} \\right)} \\cos{\\left(\\theta_{0 1} \\right)} \\cos{\\left(\\theta_{0 2} \\right)} \\cos{\\left(\\theta_{1 3} \\right)} \\cos{\\left(\\theta_{2 3} \\right)} \\cos{\\left(\\theta_{3} \\right)} + \\cos{\\left(\\theta_{0} \\right)} \\cos{\\left(\\theta_{0 1} \\right)} \\cos{\\left(\\theta_{0 3} \\right)} \\cos{\\left(\\theta_{1 2} \\right)} \\cos{\\left(\\theta_{2} \\right)} \\cos{\\left(\\theta_{2 3} \\right)} + \\cos{\\left(\\theta_{0} \\right)} \\cos{\\left(\\theta_{0 2} \\right)} \\cos{\\left(\\theta_{0 3} \\right)} \\cos{\\left(\\theta_{1} \\right)} \\cos{\\left(\\theta_{1 2} \\right)} \\cos{\\left(\\theta_{1 3} \\right)}$"
      ],
      "text/plain": [
       "sin(theta_0)*sin(theta_0_1)*sin(theta_1_2)*sin(theta_2)*cos(theta_0_3)*cos(theta_2_3) + sin(theta_0)*sin(theta_0_1)*sin(theta_1_3)*sin(theta_3)*cos(theta_0_2)*cos(theta_2_3) + sin(theta_0)*sin(theta_0_2)*sin(theta_1)*sin(theta_1_2)*cos(theta_0_3)*cos(theta_1_3) + sin(theta_0)*sin(theta_0_2)*sin(theta_2_3)*sin(theta_3)*cos(theta_0_1)*cos(theta_1_3) + sin(theta_0)*sin(theta_0_3)*sin(theta_1)*sin(theta_1_3)*cos(theta_0_2)*cos(theta_1_2) + sin(theta_0)*sin(theta_0_3)*sin(theta_2)*sin(theta_2_3)*cos(theta_0_1)*cos(theta_1_2) + sin(theta_0_1)*sin(theta_0_2)*sin(theta_1_3)*sin(theta_2_3)*cos(theta_0)*cos(theta_3) + sin(theta_0_1)*sin(theta_0_3)*sin(theta_1_2)*sin(theta_2_3)*cos(theta_0)*cos(theta_2) + sin(theta_0_2)*sin(theta_0_3)*sin(theta_1_2)*sin(theta_1_3)*cos(theta_0)*cos(theta_1) + cos(theta_0)*cos(theta_0_1)*cos(theta_0_2)*cos(theta_1_3)*cos(theta_2_3)*cos(theta_3) + cos(theta_0)*cos(theta_0_1)*cos(theta_0_3)*cos(theta_1_2)*cos(theta_2)*cos(theta_2_3) + cos(theta_0)*cos(theta_0_2)*cos(theta_0_3)*cos(theta_1)*cos(theta_1_2)*cos(theta_1_3)"
      ]
     },
     "execution_count": 17,
     "metadata": {},
     "output_type": "execute_result"
    }
   ],
   "source": [
    "# Construct symbolic energy\n",
    "energy = sym.cos(th_s[0])*sym.cos(th_s[1])*sym.cos(th_d[1,2])*sym.cos(th_d[1,3])*sym.cos(th_d[0,2])*sym.cos(th_d[0,3])\n",
    "energy += sym.cos(th_s[0])*sym.cos(th_s[1])*sym.sin(th_d[1,2])*sym.sin(th_d[1,3])*sym.sin(th_d[0,2])*sym.sin(th_d[0,3])\n",
    "energy += sym.sin(th_s[0])*sym.sin(th_s[1])*sym.sin(th_d[1,2])*sym.cos(th_d[1,3])*sym.sin(th_d[0,2])*sym.cos(th_d[0,3])\n",
    "energy += sym.sin(th_s[0])*sym.sin(th_s[1])*sym.cos(th_d[1,2])*sym.sin(th_d[1,3])*sym.cos(th_d[0,2])*sym.sin(th_d[0,3])\n",
    "\n",
    "energy += sym.cos(th_s[0])*sym.cos(th_s[2])*sym.cos(th_d[1,2])*sym.cos(th_d[2,3])*sym.cos(th_d[0,1])*sym.cos(th_d[0,3])\n",
    "energy += sym.cos(th_s[0])*sym.cos(th_s[2])*sym.sin(th_d[1,2])*sym.sin(th_d[2,3])*sym.sin(th_d[0,1])*sym.sin(th_d[0,3])\n",
    "energy += sym.sin(th_s[0])*sym.sin(th_s[2])*sym.sin(th_d[1,2])*sym.cos(th_d[2,3])*sym.sin(th_d[0,1])*sym.cos(th_d[0,3])\n",
    "energy += sym.sin(th_s[0])*sym.sin(th_s[2])*sym.cos(th_d[1,2])*sym.sin(th_d[2,3])*sym.cos(th_d[0,1])*sym.sin(th_d[0,3])\n",
    "\n",
    "energy += sym.cos(th_s[0])*sym.cos(th_s[3])*sym.cos(th_d[2,3])*sym.cos(th_d[1,3])*sym.cos(th_d[0,2])*sym.cos(th_d[0,1])\n",
    "energy += sym.cos(th_s[0])*sym.cos(th_s[3])*sym.sin(th_d[2,3])*sym.sin(th_d[1,3])*sym.sin(th_d[0,2])*sym.sin(th_d[0,1])\n",
    "energy += sym.sin(th_s[0])*sym.sin(th_s[3])*sym.sin(th_d[2,3])*sym.cos(th_d[1,3])*sym.sin(th_d[0,2])*sym.cos(th_d[0,1])\n",
    "energy += sym.sin(th_s[0])*sym.sin(th_s[3])*sym.cos(th_d[2,3])*sym.sin(th_d[1,3])*sym.cos(th_d[0,2])*sym.sin(th_d[0,1])\n",
    "\n",
    "print(energy)"
   ]
  },
  {
   "cell_type": "code",
   "execution_count": 26,
   "id": "fd9da9b1",
   "metadata": {},
   "outputs": [],
   "source": [
    "# Construct symbolic jacobian and hessian\n",
    "jac = []\n",
    "for i in range(N):\n",
    "    jac.append(energy.diff(th_s[i]))\n",
    "for i in range(N-1):\n",
    "    for j in range(i+1, N):\n",
    "        jac.append(energy.diff(th_d[i,j]))  \n",
    "        \n",
    "hess = []\n",
    "for i in range(len(jac)):\n",
    "    hess_row = []\n",
    "    for j in range(N):\n",
    "        hess_row.append(jac[i].diff(th_s[j]))\n",
    "    for j in range(N-1):\n",
    "        for k in range(j+1, N):\n",
    "            hess_row.append(jac[i].diff(th_d[j,k]))\n",
    "    hess.append(hess_row)\n",
    "    \n",
    "# Turn all arrays to symbolic\n",
    "jac = sym.Array(jac)\n",
    "hess = sym.Array(hess)"
   ]
  },
  {
   "cell_type": "code",
   "execution_count": 36,
   "id": "f6784172",
   "metadata": {},
   "outputs": [],
   "source": [
    "# Choose the numerical values for the counterexample\n",
    "th_s_num = sym.symarray('phi', N)\n",
    "th_d_num = np.array([[None, sym.symbols('phi_0_1'), sym.symbols('phi_0_2'), sym.symbols('phi_0_3')],\n",
    "                     [None,         None,           sym.symbols('phi_1_2'), sym.symbols('phi_1_3')],\n",
    "                     [None,         None,                      None,        sym.symbols('phi_2_3')]])\n",
    "\n",
    "for i in range(N):\n",
    "    th_s_num[i] = sym.pi/2\n",
    "th_s_num[2] = th_s[2] # theta_2 is left as a free variable\n",
    "\n",
    "th_d_num[0,1] = sym.pi/2\n",
    "th_d_num[0,2] = sym.pi\n",
    "th_d_num[1,2] = 0\n",
    "th_d_num[0,3] = sym.pi/2\n",
    "th_d_num[1,3] = sym.pi/2\n",
    "th_d_num[2,3] = 0\n",
    "\n",
    "\n",
    "# Substitue in numerical values\n",
    "energy_num = energy.copy()\n",
    "for i in range(N):\n",
    "    energy_num = energy_num.subs(th_s[i],th_s_num[i])\n",
    "for i in range(N-1):\n",
    "    for j in range(i+1, N):\n",
    "        energy_num = energy_num.subs(th_d[i,j],th_d_num[i,j])\n",
    "\n",
    "jac_num = jac.copy()\n",
    "for i in range(N):\n",
    "    jac_num = jac_num.subs(th_s[i],th_s_num[i])\n",
    "for i in range(N-1):\n",
    "    for j in range(i+1, N):\n",
    "        jac_num = jac_num.subs(th_d[i,j],th_d_num[i,j])\n",
    "        \n",
    "hess_num = hess.copy()\n",
    "for i in range(N):\n",
    "    hess_num = hess_num.subs(th_s[i],th_s_num[i])\n",
    "for i in range(N-1):\n",
    "    for j in range(i+1, N):\n",
    "        hess_num = hess_num.subs(th_d[i,j],th_d_num[i,j])"
   ]
  },
  {
   "cell_type": "code",
   "execution_count": 37,
   "id": "24b07e5e",
   "metadata": {},
   "outputs": [
    {
     "name": "stdout",
     "output_type": "stream",
     "text": [
      "Energy is:  -2\n",
      "Jacobian is:  [0, 0, 0, 0, 0, 0, 0, 0, 0, 0]\n",
      "Hessian is: \n"
     ]
    },
    {
     "data": {
      "text/latex": [
       "$\\displaystyle \\left[\\begin{matrix}2 & 0 & 0 & 0 & 0 & 0 & 0 & 0 & 0 & 0\\\\0 & 1 & 0 & 0 & 0 & 0 & 0 & 0 & 0 & 0\\\\0 & 0 & 0 & 0 & 0 & 0 & 0 & 0 & 0 & 0\\\\0 & 0 & 0 & 1 & 0 & 0 & 0 & 0 & 0 & 0\\\\0 & 0 & 0 & 0 & 1 & 0 & 0 & 0 & 0 & - \\sin{\\left(\\theta_{2} \\right)}\\\\0 & 0 & 0 & 0 & 0 & 2 & 0 & 0 & 0 & 0\\\\0 & 0 & 0 & 0 & 0 & 0 & 1 & - \\sin{\\left(\\theta_{2} \\right)} & 0 & 0\\\\0 & 0 & 0 & 0 & 0 & 0 & - \\sin{\\left(\\theta_{2} \\right)} & 1 & 0 & 0\\\\0 & 0 & 0 & 0 & 0 & 0 & 0 & 0 & 2 & 0\\\\0 & 0 & 0 & 0 & - \\sin{\\left(\\theta_{2} \\right)} & 0 & 0 & 0 & 0 & 1\\end{matrix}\\right]$"
      ],
      "text/plain": [
       "[[2, 0, 0, 0, 0, 0, 0, 0, 0, 0], [0, 1, 0, 0, 0, 0, 0, 0, 0, 0], [0, 0, 0, 0, 0, 0, 0, 0, 0, 0], [0, 0, 0, 1, 0, 0, 0, 0, 0, 0], [0, 0, 0, 0, 1, 0, 0, 0, 0, -sin(theta_2)], [0, 0, 0, 0, 0, 2, 0, 0, 0, 0], [0, 0, 0, 0, 0, 0, 1, -sin(theta_2), 0, 0], [0, 0, 0, 0, 0, 0, -sin(theta_2), 1, 0, 0], [0, 0, 0, 0, 0, 0, 0, 0, 2, 0], [0, 0, 0, 0, -sin(theta_2), 0, 0, 0, 0, 1]]"
      ]
     },
     "execution_count": 37,
     "metadata": {},
     "output_type": "execute_result"
    }
   ],
   "source": [
    "print('Energy is: ', energy_num)\n",
    "print('Jacobian is: ', jac_num)\n",
    "print('Hessian is: ')\n",
    "hess_num"
   ]
  },
  {
   "cell_type": "code",
   "execution_count": 49,
   "id": "0c9e3435",
   "metadata": {},
   "outputs": [
    {
     "name": "stdout",
     "output_type": "stream",
     "text": [
      "theta_2 = 0.79: Hessian eigenvalues = [1.71 0.29 1.71 0.29 2.   1.   0.   1.   2.   2.  ]\n",
      "theta_2 = 0.57: Hessian eigenvalues = [1.54 0.46 1.54 0.46 2.   1.   0.   1.   2.   2.  ]\n",
      "theta_2 = 0.0: Hessian eigenvalues = [2. 1. 0. 1. 1. 2. 1. 1. 2. 1.]\n",
      "theta_2 = -0.39: Hessian eigenvalues = [1.38 0.62 1.38 0.62 2.   1.   0.   1.   2.   2.  ]\n",
      "theta_2 = -0.91: Hessian eigenvalues = [1.79 0.21 1.79 0.21 2.   1.   0.   1.   2.   2.  ]\n",
      "\n",
      "for all values of theta_2 the Hessian is possitive-semidefinte\n"
     ]
    }
   ],
   "source": [
    "# Check eigenvalues are non-negative for every theta_2\n",
    "\n",
    "theta_2 = np.pi/4\n",
    "eigs = np.linalg.eig(np.array(hess_num.subs(th_s[2],theta_2),dtype = float))[0]\n",
    "print(f'theta_2 = {round(theta_2, 2)}: Hessian eigenvalues = {eigs.round(2)}')\n",
    "\n",
    "theta_2 = 0.57\n",
    "eigs = np.linalg.eig(np.array(hess_num.subs(th_s[2],theta_2),dtype = float))[0]\n",
    "print(f'theta_2 = {round(theta_2, 2)}: Hessian eigenvalues = {eigs.round(2)}')\n",
    "\n",
    "theta_2 = 0.00\n",
    "eigs = np.linalg.eig(np.array(hess_num.subs(th_s[2],theta_2),dtype = float))[0]\n",
    "print(f'theta_2 = {round(theta_2, 2)}: Hessian eigenvalues = {eigs.round(2)}')\n",
    "\n",
    "theta_2 = -np.pi/8\n",
    "eigs = np.linalg.eig(np.array(hess_num.subs(th_s[2],theta_2),dtype = float))[0]\n",
    "print(f'theta_2 = {round(theta_2, 2)}: Hessian eigenvalues = {eigs.round(2)}')\n",
    "\n",
    "theta_2 = -0.91\n",
    "eigs = np.linalg.eig(np.array(hess_num.subs(th_s[2],theta_2),dtype = float))[0]\n",
    "print(f'theta_2 = {round(theta_2, 2)}: Hessian eigenvalues = {eigs.round(2)}')\n",
    "print()\n",
    "\n",
    "\n",
    "count = 0\n",
    "for theta_2 in np.linspace(-2*np.pi, 2*np.pi, 1000):\n",
    "    eigs = np.linalg.eig(np.array(hess_num.subs(th_s[2],theta_2),dtype = float))[0]\n",
    "    if any(eig < 0 for eig in eigs):\n",
    "        print(f'theta_2 = {round(theta_2, 2)} has a negative eigenvalue')\n",
    "        count +=1\n",
    "if not count:\n",
    "    print('for all values of theta_2 the Hessian is possitive-semidefinte')"
   ]
  },
  {
   "cell_type": "markdown",
   "id": "55a19857",
   "metadata": {},
   "source": [
    "For every value of theta_2 we get constant energy -2. Since the Hamiltonian has not eigenvalue -2, for every value of theta_2 the corresponding state is not an eigenstate.\n",
    "\n",
    "For every value of theta_2 the Jacobian is zero, so every value is a critical point.\n",
    "\n",
    "For every value of theta_2 the Hessian has all eigenvalues possitive except one that is 0. Hence, from every value of theta_2, there is a small ball centered on theta_2 in which the energy either increases or stays constant. That means every value of theta_2 is a local minumum. \n",
    "\n",
    "Lemma 1 states that every critical point that is not an eigenstate is a saddle. We have shown that for every value of theta_2 there is a local minimum that is not an eigenstate. This contradicts Lemma 1. "
   ]
  },
  {
   "cell_type": "code",
   "execution_count": null,
   "id": "60f20fca",
   "metadata": {},
   "outputs": [],
   "source": []
  }
 ],
 "metadata": {
  "kernelspec": {
   "display_name": "Python 3 (ipykernel)",
   "language": "python",
   "name": "python3"
  },
  "language_info": {
   "codemirror_mode": {
    "name": "ipython",
    "version": 3
   },
   "file_extension": ".py",
   "mimetype": "text/x-python",
   "name": "python",
   "nbconvert_exporter": "python",
   "pygments_lexer": "ipython3",
   "version": "3.8.10"
  }
 },
 "nbformat": 4,
 "nbformat_minor": 5
}
